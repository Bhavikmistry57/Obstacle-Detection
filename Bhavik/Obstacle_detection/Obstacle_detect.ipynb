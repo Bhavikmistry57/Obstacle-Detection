{
 "cells": [
  {
   "cell_type": "code",
   "execution_count": 16,
   "metadata": {
    "colab": {
     "base_uri": "https://localhost:8080/"
    },
    "executionInfo": {
     "elapsed": 3343,
     "status": "ok",
     "timestamp": 1703586368678,
     "user": {
      "displayName": "Bhavik Mistry",
      "userId": "00147931549186094386"
     },
     "user_tz": -330
    },
    "id": "0mvCmv9qWCe7",
    "outputId": "0c4941e4-aa78-4d42-f4b5-2885fe74ab63"
   },
   "outputs": [
    {
     "name": "stdout",
     "output_type": "stream",
     "text": [
      "Drive already mounted at /content/drive; to attempt to forcibly remount, call drive.mount(\"/content/drive\", force_remount=True).\n"
     ]
    }
   ],
   "source": [
    "from google.colab import drive\n",
    "\n",
    "drive.mount('/content/drive')"
   ]
  },
  {
   "cell_type": "code",
   "execution_count": 17,
   "metadata": {
    "executionInfo": {
     "elapsed": 407,
     "status": "ok",
     "timestamp": 1703586371441,
     "user": {
      "displayName": "Bhavik Mistry",
      "userId": "00147931549186094386"
     },
     "user_tz": -330
    },
    "id": "MM5LnWzrWOIN"
   },
   "outputs": [],
   "source": [
    "ROOT_DIR = \"/content/drive/MyDrive/Obstacle_Detect\""
   ]
  },
  {
   "cell_type": "code",
   "execution_count": 3,
   "metadata": {
    "colab": {
     "base_uri": "https://localhost:8080/"
    },
    "executionInfo": {
     "elapsed": 8405,
     "status": "ok",
     "timestamp": 1703582065889,
     "user": {
      "displayName": "Bhavik Mistry",
      "userId": "00147931549186094386"
     },
     "user_tz": -330
    },
    "id": "v_uj5KfKZvQU",
    "outputId": "20363cd4-3e8a-4b8a-802e-41a1aad48996"
   },
   "outputs": [
    {
     "name": "stdout",
     "output_type": "stream",
     "text": [
      "Collecting ultralytics\n",
      "  Downloading ultralytics-8.0.229-py3-none-any.whl (663 kB)\n",
      "\u001b[2K     \u001b[90m━━━━━━━━━━━━━━━━━━━━━━━━━━━━━━━━━━━━━━━━\u001b[0m \u001b[32m663.2/663.2 kB\u001b[0m \u001b[31m4.0 MB/s\u001b[0m eta \u001b[36m0:00:00\u001b[0m\n",
      "\u001b[?25hRequirement already satisfied: matplotlib>=3.3.0 in /usr/local/lib/python3.10/dist-packages (from ultralytics) (3.7.1)\n",
      "Requirement already satisfied: numpy>=1.22.2 in /usr/local/lib/python3.10/dist-packages (from ultralytics) (1.23.5)\n",
      "Requirement already satisfied: opencv-python>=4.6.0 in /usr/local/lib/python3.10/dist-packages (from ultralytics) (4.8.0.76)\n",
      "Requirement already satisfied: pillow>=7.1.2 in /usr/local/lib/python3.10/dist-packages (from ultralytics) (9.4.0)\n",
      "Requirement already satisfied: pyyaml>=5.3.1 in /usr/local/lib/python3.10/dist-packages (from ultralytics) (6.0.1)\n",
      "Requirement already satisfied: requests>=2.23.0 in /usr/local/lib/python3.10/dist-packages (from ultralytics) (2.31.0)\n",
      "Requirement already satisfied: scipy>=1.4.1 in /usr/local/lib/python3.10/dist-packages (from ultralytics) (1.11.4)\n",
      "Requirement already satisfied: torch>=1.8.0 in /usr/local/lib/python3.10/dist-packages (from ultralytics) (2.1.0+cu121)\n",
      "Requirement already satisfied: torchvision>=0.9.0 in /usr/local/lib/python3.10/dist-packages (from ultralytics) (0.16.0+cu121)\n",
      "Requirement already satisfied: tqdm>=4.64.0 in /usr/local/lib/python3.10/dist-packages (from ultralytics) (4.66.1)\n",
      "Requirement already satisfied: pandas>=1.1.4 in /usr/local/lib/python3.10/dist-packages (from ultralytics) (1.5.3)\n",
      "Requirement already satisfied: seaborn>=0.11.0 in /usr/local/lib/python3.10/dist-packages (from ultralytics) (0.12.2)\n",
      "Requirement already satisfied: psutil in /usr/local/lib/python3.10/dist-packages (from ultralytics) (5.9.5)\n",
      "Requirement already satisfied: py-cpuinfo in /usr/local/lib/python3.10/dist-packages (from ultralytics) (9.0.0)\n",
      "Collecting thop>=0.1.1 (from ultralytics)\n",
      "  Downloading thop-0.1.1.post2209072238-py3-none-any.whl (15 kB)\n",
      "Requirement already satisfied: contourpy>=1.0.1 in /usr/local/lib/python3.10/dist-packages (from matplotlib>=3.3.0->ultralytics) (1.2.0)\n",
      "Requirement already satisfied: cycler>=0.10 in /usr/local/lib/python3.10/dist-packages (from matplotlib>=3.3.0->ultralytics) (0.12.1)\n",
      "Requirement already satisfied: fonttools>=4.22.0 in /usr/local/lib/python3.10/dist-packages (from matplotlib>=3.3.0->ultralytics) (4.46.0)\n",
      "Requirement already satisfied: kiwisolver>=1.0.1 in /usr/local/lib/python3.10/dist-packages (from matplotlib>=3.3.0->ultralytics) (1.4.5)\n",
      "Requirement already satisfied: packaging>=20.0 in /usr/local/lib/python3.10/dist-packages (from matplotlib>=3.3.0->ultralytics) (23.2)\n",
      "Requirement already satisfied: pyparsing>=2.3.1 in /usr/local/lib/python3.10/dist-packages (from matplotlib>=3.3.0->ultralytics) (3.1.1)\n",
      "Requirement already satisfied: python-dateutil>=2.7 in /usr/local/lib/python3.10/dist-packages (from matplotlib>=3.3.0->ultralytics) (2.8.2)\n",
      "Requirement already satisfied: pytz>=2020.1 in /usr/local/lib/python3.10/dist-packages (from pandas>=1.1.4->ultralytics) (2023.3.post1)\n",
      "Requirement already satisfied: charset-normalizer<4,>=2 in /usr/local/lib/python3.10/dist-packages (from requests>=2.23.0->ultralytics) (3.3.2)\n",
      "Requirement already satisfied: idna<4,>=2.5 in /usr/local/lib/python3.10/dist-packages (from requests>=2.23.0->ultralytics) (3.6)\n",
      "Requirement already satisfied: urllib3<3,>=1.21.1 in /usr/local/lib/python3.10/dist-packages (from requests>=2.23.0->ultralytics) (2.0.7)\n",
      "Requirement already satisfied: certifi>=2017.4.17 in /usr/local/lib/python3.10/dist-packages (from requests>=2.23.0->ultralytics) (2023.11.17)\n",
      "Requirement already satisfied: filelock in /usr/local/lib/python3.10/dist-packages (from torch>=1.8.0->ultralytics) (3.13.1)\n",
      "Requirement already satisfied: typing-extensions in /usr/local/lib/python3.10/dist-packages (from torch>=1.8.0->ultralytics) (4.5.0)\n",
      "Requirement already satisfied: sympy in /usr/local/lib/python3.10/dist-packages (from torch>=1.8.0->ultralytics) (1.12)\n",
      "Requirement already satisfied: networkx in /usr/local/lib/python3.10/dist-packages (from torch>=1.8.0->ultralytics) (3.2.1)\n",
      "Requirement already satisfied: jinja2 in /usr/local/lib/python3.10/dist-packages (from torch>=1.8.0->ultralytics) (3.1.2)\n",
      "Requirement already satisfied: fsspec in /usr/local/lib/python3.10/dist-packages (from torch>=1.8.0->ultralytics) (2023.6.0)\n",
      "Requirement already satisfied: triton==2.1.0 in /usr/local/lib/python3.10/dist-packages (from torch>=1.8.0->ultralytics) (2.1.0)\n",
      "Requirement already satisfied: six>=1.5 in /usr/local/lib/python3.10/dist-packages (from python-dateutil>=2.7->matplotlib>=3.3.0->ultralytics) (1.16.0)\n",
      "Requirement already satisfied: MarkupSafe>=2.0 in /usr/local/lib/python3.10/dist-packages (from jinja2->torch>=1.8.0->ultralytics) (2.1.3)\n",
      "Requirement already satisfied: mpmath>=0.19 in /usr/local/lib/python3.10/dist-packages (from sympy->torch>=1.8.0->ultralytics) (1.3.0)\n",
      "Installing collected packages: thop, ultralytics\n",
      "Successfully installed thop-0.1.1.post2209072238 ultralytics-8.0.229\n"
     ]
    }
   ],
   "source": [
    "!pip install ultralytics"
   ]
  },
  {
   "cell_type": "code",
   "execution_count": 3,
   "metadata": {
    "executionInfo": {
     "elapsed": 365,
     "status": "ok",
     "timestamp": 1703586571687,
     "user": {
      "displayName": "Bhavik Mistry",
      "userId": "00147931549186094386"
     },
     "user_tz": -330
    },
    "id": "J-xZCrAxZz7y"
   },
   "outputs": [],
   "source": [
    "from ultralytics import YOLO\n",
    "import os"
   ]
  },
  {
   "cell_type": "code",
   "execution_count": 3,
   "metadata": {
    "colab": {
     "base_uri": "https://localhost:8080/"
    },
    "collapsed": true,
    "executionInfo": {
     "elapsed": 1747974,
     "status": "ok",
     "timestamp": 1703588322327,
     "user": {
      "displayName": "Bhavik Mistry",
      "userId": "00147931549186094386"
     },
     "user_tz": -330
    },
    "id": "mQE8rJvvaT8s",
    "outputId": "742f4af5-31f3-4965-b69d-bdb2eb3f32c4"
   },
   "outputs": [
    {
     "name": "stderr",
     "output_type": "stream",
     "text": [
      "\n",
      "                   from  n    params  module                                       arguments                     \n",
      "  0                  -1  1       464  ultralytics.nn.modules.conv.Conv             [3, 16, 3, 2]                 \n",
      "  1                  -1  1      4672  ultralytics.nn.modules.conv.Conv             [16, 32, 3, 2]                \n",
      "  2                  -1  1      7360  ultralytics.nn.modules.block.C2f             [32, 32, 1, True]             \n",
      "  3                  -1  1     18560  ultralytics.nn.modules.conv.Conv             [32, 64, 3, 2]                \n",
      "  4                  -1  2     49664  ultralytics.nn.modules.block.C2f             [64, 64, 2, True]             \n",
      "  5                  -1  1     73984  ultralytics.nn.modules.conv.Conv             [64, 128, 3, 2]               \n",
      "  6                  -1  2    197632  ultralytics.nn.modules.block.C2f             [128, 128, 2, True]           \n",
      "  7                  -1  1    295424  ultralytics.nn.modules.conv.Conv             [128, 256, 3, 2]              \n",
      "  8                  -1  1    460288  ultralytics.nn.modules.block.C2f             [256, 256, 1, True]           \n",
      "  9                  -1  1    164608  ultralytics.nn.modules.block.SPPF            [256, 256, 5]                 \n",
      " 10                  -1  1         0  torch.nn.modules.upsampling.Upsample         [None, 2, 'nearest']          \n",
      " 11             [-1, 6]  1         0  ultralytics.nn.modules.conv.Concat           [1]                           \n",
      " 12                  -1  1    148224  ultralytics.nn.modules.block.C2f             [384, 128, 1]                 \n",
      " 13                  -1  1         0  torch.nn.modules.upsampling.Upsample         [None, 2, 'nearest']          \n",
      " 14             [-1, 4]  1         0  ultralytics.nn.modules.conv.Concat           [1]                           \n",
      " 15                  -1  1     37248  ultralytics.nn.modules.block.C2f             [192, 64, 1]                  \n",
      " 16                  -1  1     36992  ultralytics.nn.modules.conv.Conv             [64, 64, 3, 2]                \n",
      " 17            [-1, 12]  1         0  ultralytics.nn.modules.conv.Concat           [1]                           \n",
      " 18                  -1  1    123648  ultralytics.nn.modules.block.C2f             [192, 128, 1]                 \n",
      " 19                  -1  1    147712  ultralytics.nn.modules.conv.Conv             [128, 128, 3, 2]              \n",
      " 20             [-1, 9]  1         0  ultralytics.nn.modules.conv.Concat           [1]                           \n",
      " 21                  -1  1    493056  ultralytics.nn.modules.block.C2f             [384, 256, 1]                 \n",
      " 22        [15, 18, 21]  1    897664  ultralytics.nn.modules.head.Detect           [80, [64, 128, 256]]          \n",
      "YOLOv8n summary: 225 layers, 3157200 parameters, 3157184 gradients\n",
      "\n"
     ]
    },
    {
     "ename": "NameError",
     "evalue": "name 'ROOT_DIR' is not defined",
     "output_type": "error",
     "traceback": [
      "\u001b[1;31m---------------------------------------------------------------------------\u001b[0m",
      "\u001b[1;31mNameError\u001b[0m                                 Traceback (most recent call last)",
      "Cell \u001b[1;32mIn[3], line 5\u001b[0m\n\u001b[0;32m      2\u001b[0m model \u001b[38;5;241m=\u001b[39m YOLO(\u001b[38;5;124m'\u001b[39m\u001b[38;5;124myolov8n.yaml\u001b[39m\u001b[38;5;124m'\u001b[39m) \u001b[38;5;66;03m# build a new model from scratch\u001b[39;00m\n\u001b[0;32m      4\u001b[0m \u001b[38;5;66;03m# Use the model\u001b[39;00m\n\u001b[1;32m----> 5\u001b[0m results \u001b[38;5;241m=\u001b[39m model\u001b[38;5;241m.\u001b[39mtrain(data\u001b[38;5;241m=\u001b[39mos\u001b[38;5;241m.\u001b[39mpath\u001b[38;5;241m.\u001b[39mjoin(ROOT_DIR, \u001b[38;5;124m\"\u001b[39m\u001b[38;5;124mconfig_data.yaml\u001b[39m\u001b[38;5;124m\"\u001b[39m), epochs\u001b[38;5;241m=\u001b[39m\u001b[38;5;241m100\u001b[39m)\n",
      "\u001b[1;31mNameError\u001b[0m: name 'ROOT_DIR' is not defined"
     ]
    }
   ],
   "source": [
    "#load the model\n",
    "model = YOLO('yolov8n.yaml') # build a new model from scratch\n",
    "\n",
    "# Use the model\n",
    "results = model.train(data=os.path.join(ROOT_DIR, \"config_data.yaml\"), epochs=100)  # train the model"
   ]
  },
  {
   "cell_type": "code",
   "execution_count": 21,
   "metadata": {
    "executionInfo": {
     "elapsed": 479,
     "status": "ok",
     "timestamp": 1703588485606,
     "user": {
      "displayName": "Bhavik Mistry",
      "userId": "00147931549186094386"
     },
     "user_tz": -330
    },
    "id": "Hvd4O0wQo4G6"
   },
   "outputs": [],
   "source": [
    "import locale\n",
    "locale.getpreferredencoding = lambda: \"UTF-8\""
   ]
  },
  {
   "cell_type": "code",
   "execution_count": 22,
   "metadata": {
    "executionInfo": {
     "elapsed": 449,
     "status": "ok",
     "timestamp": 1703588486433,
     "user": {
      "displayName": "Bhavik Mistry",
      "userId": "00147931549186094386"
     },
     "user_tz": -330
    },
    "id": "ExceUOrAbk2L"
   },
   "outputs": [],
   "source": [
    "!scp -r /content/runs \"/content/drive/MyDrive/Obstacle_Detect\""
   ]
  },
  {
   "cell_type": "code",
   "execution_count": 1,
   "metadata": {
    "id": "Kzq4-lCbovLa"
   },
   "outputs": [],
   "source": [
    "import cv2"
   ]
  },
  {
   "cell_type": "code",
   "execution_count": 4,
   "metadata": {},
   "outputs": [
    {
     "name": "stderr",
     "output_type": "stream",
     "text": [
      "\n",
      "image 1/1 C:\\Users\\Operator\\Bhavik\\Obstacle_detection\\Test\\istockphoto-1020593656-612x612.jpg: 480x640 1 Other1, 1 Other2, 128.3ms\n",
      "Speed: 6.2ms preprocess, 128.3ms inference, 15.6ms postprocess per image at shape (1, 3, 480, 640)\n",
      "\n",
      "image 1/1 C:\\Users\\Operator\\Bhavik\\Obstacle_detection\\Test\\istockphoto-1060548502-612x612.jpg: 448x640 1 Other1, 1 Other2, 100.0ms\n",
      "Speed: 1.2ms preprocess, 100.0ms inference, 0.0ms postprocess per image at shape (1, 3, 448, 640)\n",
      "\n",
      "image 1/1 C:\\Users\\Operator\\Bhavik\\Obstacle_detection\\Test\\istockphoto-1136434105-612x612.jpg: 448x640 1 Other1, 1 Other2, 79.8ms\n",
      "Speed: 0.0ms preprocess, 79.8ms inference, 1.4ms postprocess per image at shape (1, 3, 448, 640)\n",
      "\n",
      "image 1/1 C:\\Users\\Operator\\Bhavik\\Obstacle_detection\\Test\\istockphoto-1161989356-612x612.jpg: 320x640 1 Other1, 50.4ms\n",
      "Speed: 14.6ms preprocess, 50.4ms inference, 0.0ms postprocess per image at shape (1, 3, 320, 640)\n",
      "\n",
      "image 1/1 C:\\Users\\Operator\\Bhavik\\Obstacle_detection\\Test\\istockphoto-1166416390-612x612.jpg: 448x640 1 Rock, 96.2ms\n",
      "Speed: 0.0ms preprocess, 96.2ms inference, 0.0ms postprocess per image at shape (1, 3, 448, 640)\n",
      "\n",
      "image 1/1 C:\\Users\\Operator\\Bhavik\\Obstacle_detection\\Test\\istockphoto-1175720486-612x612.jpg: 448x640 2 Rocks, 1 Other1, 81.1ms\n",
      "Speed: 0.0ms preprocess, 81.1ms inference, 0.0ms postprocess per image at shape (1, 3, 448, 640)\n",
      "\n",
      "image 1/1 C:\\Users\\Operator\\Bhavik\\Obstacle_detection\\Test\\istockphoto-1196542801-612x612.jpg: 448x640 1 Other2, 63.7ms\n",
      "Speed: 0.0ms preprocess, 63.7ms inference, 0.0ms postprocess per image at shape (1, 3, 448, 640)\n",
      "\n",
      "image 1/1 C:\\Users\\Operator\\Bhavik\\Obstacle_detection\\Test\\istockphoto-1214974099-612x612.jpg: 640x480 1 Footwear, 98.0ms\n",
      "Speed: 0.0ms preprocess, 98.0ms inference, 1.0ms postprocess per image at shape (1, 3, 640, 480)\n",
      "\n",
      "image 1/1 C:\\Users\\Operator\\Bhavik\\Obstacle_detection\\Test\\istockphoto-1219258812-612x612.jpg: 640x480 1 Other1, 77.4ms\n",
      "Speed: 0.0ms preprocess, 77.4ms inference, 1.0ms postprocess per image at shape (1, 3, 640, 480)\n",
      "\n",
      "image 1/1 C:\\Users\\Operator\\Bhavik\\Obstacle_detection\\Test\\istockphoto-123488296-612x612.jpg: 640x512 (no detections), 84.9ms\n",
      "Speed: 14.7ms preprocess, 84.9ms inference, 0.0ms postprocess per image at shape (1, 3, 640, 512)\n",
      "\n",
      "image 1/1 C:\\Users\\Operator\\Bhavik\\Obstacle_detection\\Test\\istockphoto-1249471124-612x612.jpg: 448x640 2 Other1s, 3 Other2s, 98.9ms\n",
      "Speed: 0.0ms preprocess, 98.9ms inference, 0.0ms postprocess per image at shape (1, 3, 448, 640)\n",
      "\n",
      "image 1/1 C:\\Users\\Operator\\Bhavik\\Obstacle_detection\\Test\\istockphoto-1281558907-612x612.jpg: 448x640 1 Other2, 81.9ms\n",
      "Speed: 0.0ms preprocess, 81.9ms inference, 0.7ms postprocess per image at shape (1, 3, 448, 640)\n",
      "\n",
      "image 1/1 C:\\Users\\Operator\\Bhavik\\Obstacle_detection\\Test\\istockphoto-1281748310-612x612.jpg: 416x640 1 Other1, 82.8ms\n",
      "Speed: 0.0ms preprocess, 82.8ms inference, 0.0ms postprocess per image at shape (1, 3, 416, 640)\n",
      "\n",
      "image 1/1 C:\\Users\\Operator\\Bhavik\\Obstacle_detection\\Test\\istockphoto-1303225639-612x612.jpg: 448x640 1 Other1, 1 Other2, 62.9ms\n",
      "Speed: 0.0ms preprocess, 62.9ms inference, 0.0ms postprocess per image at shape (1, 3, 448, 640)\n",
      "\n",
      "image 1/1 C:\\Users\\Operator\\Bhavik\\Obstacle_detection\\Test\\istockphoto-1308421799-612x612.jpg: 416x640 1 Footwear, 1 Helmet, 65.6ms\n",
      "Speed: 0.0ms preprocess, 65.6ms inference, 0.0ms postprocess per image at shape (1, 3, 416, 640)\n",
      "\n",
      "image 1/1 C:\\Users\\Operator\\Bhavik\\Obstacle_detection\\Test\\istockphoto-1321069259-612x612.jpg: 448x640 2 Other1s, 67.9ms\n",
      "Speed: 14.7ms preprocess, 67.9ms inference, 0.0ms postprocess per image at shape (1, 3, 448, 640)\n",
      "\n",
      "image 1/1 C:\\Users\\Operator\\Bhavik\\Obstacle_detection\\Test\\istockphoto-1346355778-612x612.jpg: 448x640 2 Rocks, 3 Other1s, 3 Other2s, 66.7ms\n",
      "Speed: 15.9ms preprocess, 66.7ms inference, 0.0ms postprocess per image at shape (1, 3, 448, 640)\n",
      "\n",
      "image 1/1 C:\\Users\\Operator\\Bhavik\\Obstacle_detection\\Test\\istockphoto-1362075217-612x612.jpg: 384x640 2 Other1s, 66.0ms\n",
      "Speed: 0.0ms preprocess, 66.0ms inference, 0.0ms postprocess per image at shape (1, 3, 384, 640)\n",
      "\n",
      "image 1/1 C:\\Users\\Operator\\Bhavik\\Obstacle_detection\\Test\\istockphoto-1362700987-612x612.jpg: 448x640 1 Rock, 1 Other1, 1 Other2, 78.5ms\n",
      "Speed: 0.0ms preprocess, 78.5ms inference, 1.0ms postprocess per image at shape (1, 3, 448, 640)\n",
      "\n",
      "image 1/1 C:\\Users\\Operator\\Bhavik\\Obstacle_detection\\Test\\istockphoto-137164592-612x612.jpg: 448x640 1 Other2, 65.2ms\n",
      "Speed: 0.0ms preprocess, 65.2ms inference, 0.0ms postprocess per image at shape (1, 3, 448, 640)\n",
      "\n",
      "image 1/1 C:\\Users\\Operator\\Bhavik\\Obstacle_detection\\Test\\istockphoto-137227739-612x612.jpg: 448x640 1 Other1, 1 Other2, 65.9ms\n",
      "Speed: 0.0ms preprocess, 65.9ms inference, 0.0ms postprocess per image at shape (1, 3, 448, 640)\n",
      "\n",
      "image 1/1 C:\\Users\\Operator\\Bhavik\\Obstacle_detection\\Test\\istockphoto-1383107173-612x612.jpg: 448x640 1 Other1, 75.8ms\n",
      "Speed: 2.0ms preprocess, 75.8ms inference, 1.0ms postprocess per image at shape (1, 3, 448, 640)\n",
      "\n",
      "image 1/1 C:\\Users\\Operator\\Bhavik\\Obstacle_detection\\Test\\istockphoto-1444889325-612x612.jpg: 448x640 1 Other2, 80.8ms\n",
      "Speed: 14.4ms preprocess, 80.8ms inference, 0.0ms postprocess per image at shape (1, 3, 448, 640)\n",
      "\n",
      "image 1/1 C:\\Users\\Operator\\Bhavik\\Obstacle_detection\\Test\\istockphoto-1445646266-612x612.jpg: 448x640 2 Footwears, 1 Other2, 50.5ms\n",
      "Speed: 14.7ms preprocess, 50.5ms inference, 0.0ms postprocess per image at shape (1, 3, 448, 640)\n",
      "\n",
      "image 1/1 C:\\Users\\Operator\\Bhavik\\Obstacle_detection\\Test\\istockphoto-1454881427-612x612.jpg: 640x480 1 Rock, 1 Other1, 1 Other2, 68.3ms\n",
      "Speed: 0.0ms preprocess, 68.3ms inference, 0.0ms postprocess per image at shape (1, 3, 640, 480)\n",
      "\n",
      "image 1/1 C:\\Users\\Operator\\Bhavik\\Obstacle_detection\\Test\\istockphoto-1458874525-612x612.jpg: 640x640 1 Footwear, 4 Other1s, 3 Other2s, 96.2ms\n",
      "Speed: 0.0ms preprocess, 96.2ms inference, 0.0ms postprocess per image at shape (1, 3, 640, 640)\n",
      "\n",
      "image 1/1 C:\\Users\\Operator\\Bhavik\\Obstacle_detection\\Test\\istockphoto-1472263921-612x612.jpg: 448x640 1 Other1, 83.2ms\n",
      "Speed: 0.0ms preprocess, 83.2ms inference, 0.0ms postprocess per image at shape (1, 3, 448, 640)\n",
      "\n",
      "image 1/1 C:\\Users\\Operator\\Bhavik\\Obstacle_detection\\Test\\istockphoto-1474882527-612x612.jpg: 448x640 2 Other1s, 82.7ms\n",
      "Speed: 0.9ms preprocess, 82.7ms inference, 0.0ms postprocess per image at shape (1, 3, 448, 640)\n",
      "\n",
      "image 1/1 C:\\Users\\Operator\\Bhavik\\Obstacle_detection\\Test\\istockphoto-155374709-612x612.jpg: 448x640 2 Rocks, 115.4ms\n",
      "Speed: 0.0ms preprocess, 115.4ms inference, 0.1ms postprocess per image at shape (1, 3, 448, 640)\n",
      "\n",
      "image 1/1 C:\\Users\\Operator\\Bhavik\\Obstacle_detection\\Test\\istockphoto-1713025715-612x612.jpg: 544x640 2 Other2s, 114.3ms\n",
      "Speed: 0.0ms preprocess, 114.3ms inference, 0.0ms postprocess per image at shape (1, 3, 544, 640)\n",
      "\n",
      "image 1/1 C:\\Users\\Operator\\Bhavik\\Obstacle_detection\\Test\\istockphoto-172174181-612x612.jpg: 640x448 2 Other2s, 64.0ms\n",
      "Speed: 0.0ms preprocess, 64.0ms inference, 0.0ms postprocess per image at shape (1, 3, 640, 448)\n",
      "\n",
      "image 1/1 C:\\Users\\Operator\\Bhavik\\Obstacle_detection\\Test\\istockphoto-172387554-612x612.jpg: 448x640 1 Footwear, 2 Other2s, 84.4ms\n",
      "Speed: 0.0ms preprocess, 84.4ms inference, 0.0ms postprocess per image at shape (1, 3, 448, 640)\n",
      "\n",
      "image 1/1 C:\\Users\\Operator\\Bhavik\\Obstacle_detection\\Test\\istockphoto-172809219-612x612.jpg: 448x640 2 Other1s, 82.0ms\n",
      "Speed: 15.7ms preprocess, 82.0ms inference, 0.4ms postprocess per image at shape (1, 3, 448, 640)\n",
      "\n",
      "image 1/1 C:\\Users\\Operator\\Bhavik\\Obstacle_detection\\Test\\istockphoto-175600796-612x612.jpg: 640x448 1 Other2, 68.2ms\n",
      "Speed: 0.0ms preprocess, 68.2ms inference, 1.0ms postprocess per image at shape (1, 3, 640, 448)\n",
      "\n",
      "image 1/1 C:\\Users\\Operator\\Bhavik\\Obstacle_detection\\Test\\istockphoto-176028844-612x612.jpg: 640x448 (no detections), 65.7ms\n",
      "Speed: 13.7ms preprocess, 65.7ms inference, 0.0ms postprocess per image at shape (1, 3, 640, 448)\n",
      "\n",
      "image 1/1 C:\\Users\\Operator\\Bhavik\\Obstacle_detection\\Test\\istockphoto-181860413-612x612.jpg: 448x640 3 Footwears, 2 Other1s, 2 Other2s, 67.9ms\n",
      "Speed: 0.0ms preprocess, 67.9ms inference, 0.0ms postprocess per image at shape (1, 3, 448, 640)\n",
      "\n",
      "image 1/1 C:\\Users\\Operator\\Bhavik\\Obstacle_detection\\Test\\istockphoto-466592929-612x612.jpg: 448x640 1 Other2, 65.1ms\n"
     ]
    },
    {
     "name": "stderr",
     "output_type": "stream",
     "text": [
      "Speed: 0.0ms preprocess, 65.1ms inference, 0.0ms postprocess per image at shape (1, 3, 448, 640)\n",
      "\n",
      "image 1/1 C:\\Users\\Operator\\Bhavik\\Obstacle_detection\\Test\\istockphoto-467441252-612x612.jpg: 448x640 2 Other1s, 65.7ms\n",
      "Speed: 16.1ms preprocess, 65.7ms inference, 0.0ms postprocess per image at shape (1, 3, 448, 640)\n",
      "\n",
      "image 1/1 C:\\Users\\Operator\\Bhavik\\Obstacle_detection\\Test\\istockphoto-469446544-612x612.jpg: 448x640 1 Other1, 116.5ms\n",
      "Speed: 0.0ms preprocess, 116.5ms inference, 16.6ms postprocess per image at shape (1, 3, 448, 640)\n",
      "\n",
      "image 1/1 C:\\Users\\Operator\\Bhavik\\Obstacle_detection\\Test\\istockphoto-471497245-612x612.jpg: 640x448 1 Other2, 82.5ms\n",
      "Speed: 0.0ms preprocess, 82.5ms inference, 0.0ms postprocess per image at shape (1, 3, 640, 448)\n",
      "\n",
      "image 1/1 C:\\Users\\Operator\\Bhavik\\Obstacle_detection\\Test\\istockphoto-471911405-612x612.jpg: 640x384 1 Other1, 1 Other2, 115.6ms\n",
      "Speed: 0.0ms preprocess, 115.6ms inference, 0.0ms postprocess per image at shape (1, 3, 640, 384)\n",
      "\n",
      "image 1/1 C:\\Users\\Operator\\Bhavik\\Obstacle_detection\\Test\\istockphoto-473127476-612x612.jpg: 448x640 1 Rock, 1 Other1, 1 Other2, 81.9ms\n",
      "Speed: 0.0ms preprocess, 81.9ms inference, 1.0ms postprocess per image at shape (1, 3, 448, 640)\n",
      "\n",
      "image 1/1 C:\\Users\\Operator\\Bhavik\\Obstacle_detection\\Test\\istockphoto-483170720-612x612.jpg: 448x640 1 Other1, 82.3ms\n",
      "Speed: 0.0ms preprocess, 82.3ms inference, 0.0ms postprocess per image at shape (1, 3, 448, 640)\n",
      "\n",
      "image 1/1 C:\\Users\\Operator\\Bhavik\\Obstacle_detection\\Test\\istockphoto-498452920-612x612.jpg: 416x640 2 Other2s, 74.7ms\n",
      "Speed: 1.2ms preprocess, 74.7ms inference, 0.0ms postprocess per image at shape (1, 3, 416, 640)\n",
      "\n",
      "image 1/1 C:\\Users\\Operator\\Bhavik\\Obstacle_detection\\Test\\istockphoto-508510124-612x612.jpg: 416x640 2 Other1s, 1 Other2, 65.2ms\n",
      "Speed: 0.0ms preprocess, 65.2ms inference, 0.0ms postprocess per image at shape (1, 3, 416, 640)\n",
      "\n",
      "image 1/1 C:\\Users\\Operator\\Bhavik\\Obstacle_detection\\Test\\istockphoto-510776268-612x612.jpg: 640x448 1 Rock, 82.0ms\n",
      "Speed: 1.3ms preprocess, 82.0ms inference, 0.0ms postprocess per image at shape (1, 3, 640, 448)\n",
      "\n",
      "image 1/1 C:\\Users\\Operator\\Bhavik\\Obstacle_detection\\Test\\istockphoto-515807681-612x612.jpg: 448x640 1 Other1, 65.8ms\n",
      "Speed: 0.0ms preprocess, 65.8ms inference, 15.3ms postprocess per image at shape (1, 3, 448, 640)\n",
      "\n",
      "image 1/1 C:\\Users\\Operator\\Bhavik\\Obstacle_detection\\Test\\istockphoto-534328348-612x612.jpg: 448x640 1 Footwear, 82.2ms\n",
      "Speed: 0.0ms preprocess, 82.2ms inference, 0.0ms postprocess per image at shape (1, 3, 448, 640)\n",
      "\n",
      "image 1/1 C:\\Users\\Operator\\Bhavik\\Obstacle_detection\\Test\\istockphoto-638535148-612x612.jpg: 448x640 1 Rock, 1 Other1, 65.2ms\n",
      "Speed: 14.4ms preprocess, 65.2ms inference, 0.0ms postprocess per image at shape (1, 3, 448, 640)\n",
      "\n",
      "image 1/1 C:\\Users\\Operator\\Bhavik\\Obstacle_detection\\Test\\istockphoto-684539346-612x612.jpg: 448x640 1 Other1, 83.3ms\n",
      "Speed: 0.0ms preprocess, 83.3ms inference, 0.0ms postprocess per image at shape (1, 3, 448, 640)\n",
      "\n",
      "image 1/1 C:\\Users\\Operator\\Bhavik\\Obstacle_detection\\Test\\istockphoto-695924506-612x612.jpg: 448x640 2 Rocks, 1 Footwear, 3 Other1s, 1 Other2, 82.8ms\n",
      "Speed: 0.0ms preprocess, 82.8ms inference, 0.0ms postprocess per image at shape (1, 3, 448, 640)\n",
      "\n",
      "image 1/1 C:\\Users\\Operator\\Bhavik\\Obstacle_detection\\Test\\istockphoto-695924828-612x612.jpg: 416x640 3 Other1s, 26 Other2s, 66.0ms\n",
      "Speed: 0.0ms preprocess, 66.0ms inference, 0.0ms postprocess per image at shape (1, 3, 416, 640)\n",
      "\n",
      "image 1/1 C:\\Users\\Operator\\Bhavik\\Obstacle_detection\\Test\\istockphoto-916750156-612x612.jpg: 384x640 1 Other1, 60.0ms\n",
      "Speed: 0.0ms preprocess, 60.0ms inference, 0.0ms postprocess per image at shape (1, 3, 384, 640)\n",
      "\n",
      "image 1/1 C:\\Users\\Operator\\Bhavik\\Obstacle_detection\\Test\\istockphoto-921028994-612x612.jpg: 448x640 1 Other1, 166.0ms\n",
      "Speed: 0.0ms preprocess, 166.0ms inference, 0.0ms postprocess per image at shape (1, 3, 448, 640)\n",
      "\n",
      "image 1/1 C:\\Users\\Operator\\Bhavik\\Obstacle_detection\\Test\\istockphoto-926124132-612x612.jpg: 448x640 1 Other2, 131.9ms\n",
      "Speed: 0.0ms preprocess, 131.9ms inference, 16.3ms postprocess per image at shape (1, 3, 448, 640)\n",
      "\n",
      "image 1/1 C:\\Users\\Operator\\Bhavik\\Obstacle_detection\\Test\\istockphoto-966853826-612x612.jpg: 448x640 (no detections), 101.5ms\n",
      "Speed: 14.1ms preprocess, 101.5ms inference, 16.3ms postprocess per image at shape (1, 3, 448, 640)\n",
      "\n",
      "image 1/1 C:\\Users\\Operator\\Bhavik\\Obstacle_detection\\Test\\istockphoto-973025192-612x612.jpg: 448x640 2 Footwears, 1 Other1, 1 Other2, 132.1ms\n",
      "Speed: 0.0ms preprocess, 132.1ms inference, 32.8ms postprocess per image at shape (1, 3, 448, 640)\n",
      "\n",
      "image 1/1 C:\\Users\\Operator\\Bhavik\\Obstacle_detection\\Test\\istockphoto-986711376-612x612.jpg: 544x640 2 Rocks, 81.4ms\n",
      "Speed: 15.9ms preprocess, 81.4ms inference, 0.0ms postprocess per image at shape (1, 3, 544, 640)\n",
      "\n",
      "image 1/1 C:\\Users\\Operator\\Bhavik\\Obstacle_detection\\Test\\istockphoto-997523666-612x612.jpg: 448x640 1 Bag, 62.6ms\n",
      "Speed: 3.0ms preprocess, 62.6ms inference, 15.6ms postprocess per image at shape (1, 3, 448, 640)\n"
     ]
    }
   ],
   "source": [
    "img_dir = 'C:/Users/Operator/Bhavik/Obstacle_detection/Test/'\n",
    "directory = 'C:/Users/Operator/Bhavik/Obstacle_detection/runs/predict/'\n",
    "model = YOLO('C:/Users/Operator/Bhavik/Obstacle_detection/weights/best.pt')\n",
    "# img_path = \"C:/Users/Operator/Animal_Project/Test_imgs2/LOC01_LG2WLD_20230911_202747783_1_8.jpg\"\n",
    "num = 1\n",
    "\n",
    "\n",
    "for img in os.listdir(img_dir):\n",
    "    img_path = img_dir+img\n",
    "    preds = model(img_path)[0]\n",
    "    image = cv2.imread(img_path)\n",
    "    class_labels = ['Cap','Rock','Bag','Footwear','Helmet','Other1', 'Other2']\n",
    "\n",
    "    for pred in preds.boxes:\n",
    "    #     w,h = int(pred.xywh[0][2]), int(pred.xywh[0][3])\n",
    "        x1, y1 = int(pred.xyxy[0][0]), int(pred.xyxy[0][1])\n",
    "    \n",
    "        x2, y2 = int(pred.xyxy[0][2]), int(pred.xyxy[0][3])\n",
    "    \n",
    "        class_idx, confidence = int(pred.cls), float(pred.conf)\n",
    "#         class_name = str(\"Animal\" if class_idx == 0 else \"Unknown\")\n",
    "#         print(class_name)\n",
    "    #     print(bbox, class_idx, confidence)\n",
    "        conf = float(\"0.\" + str(confidence).split('.')[1][:2]) if '.' in str(confidence) else 0\n",
    "\n",
    "#         if class_name == \"Animal\":\n",
    "        cv2.rectangle(image, (x1,y1), (x2,y2), (255,0,0), 2 )\n",
    "        cv2.putText(image, \"Unknown\" +' '+ str(conf), (x1, y1-3), cv2.FONT_HERSHEY_PLAIN, fontScale = 1, color = (0,225,0), thickness = 2)\n",
    "#         else:\n",
    "#             cv2.rectangle(image, (x1,y1), (x2,y2), (255,255,255), 2 )\n",
    "#             cv2.putText(image, class_name +' '+ str(conf), (x1, y1-3), cv2.FONT_HERSHEY_PLAIN, fontScale = 1, color = (0,225,0), thickness = 2)\n",
    "            \n",
    "            \n",
    "    new_dir = directory + str(num) + '.jpg'\n",
    "    cv2.imwrite(new_dir,image)\n",
    "    num += 1"
   ]
  },
  {
   "cell_type": "code",
   "execution_count": null,
   "metadata": {},
   "outputs": [],
   "source": []
  }
 ],
 "metadata": {
  "accelerator": "GPU",
  "colab": {
   "authorship_tag": "ABX9TyP1vVXyyk88x+dkiCIudq4Y",
   "gpuType": "T4",
   "provenance": []
  },
  "kernelspec": {
   "display_name": "Python 3 (ipykernel)",
   "language": "python",
   "name": "python3"
  },
  "language_info": {
   "codemirror_mode": {
    "name": "ipython",
    "version": 3
   },
   "file_extension": ".py",
   "mimetype": "text/x-python",
   "name": "python",
   "nbconvert_exporter": "python",
   "pygments_lexer": "ipython3",
   "version": "3.11.4"
  }
 },
 "nbformat": 4,
 "nbformat_minor": 1
}
